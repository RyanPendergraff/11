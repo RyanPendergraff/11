{
 "cells": [
  {
   "cell_type": "code",
   "execution_count": 4,
   "id": "de1b1026-54cf-488d-ad11-2924e6d5bdea",
   "metadata": {},
   "outputs": [],
   "source": [
    "with open(\"zoo.py\", \"w\") as file:\n",
    "    file.write(\"\"\"\n",
    "def hours():\n",
    "    print('Open 9-5 daily')\n",
    "\"\"\")"
   ]
  },
  {
   "cell_type": "code",
   "execution_count": 6,
   "id": "e0a7af77-0977-40dc-9dd4-1ba47c81b8df",
   "metadata": {},
   "outputs": [
    {
     "data": {
      "text/plain": [
       "<function zoo.hours()>"
      ]
     },
     "execution_count": 6,
     "metadata": {},
     "output_type": "execute_result"
    }
   ],
   "source": [
    "import zoo\n",
    "zoo.hours()"
   ]
  },
  {
   "cell_type": "code",
   "execution_count": null,
   "id": "15953a70-4e33-4ced-b8fa-3c76cb95bb5a",
   "metadata": {},
   "outputs": [],
   "source": []
  }
 ],
 "metadata": {
  "kernelspec": {
   "display_name": "Python 3 (ipykernel)",
   "language": "python",
   "name": "python3"
  },
  "language_info": {
   "codemirror_mode": {
    "name": "ipython",
    "version": 3
   },
   "file_extension": ".py",
   "mimetype": "text/x-python",
   "name": "python",
   "nbconvert_exporter": "python",
   "pygments_lexer": "ipython3",
   "version": "3.12.4"
  }
 },
 "nbformat": 4,
 "nbformat_minor": 5
}
